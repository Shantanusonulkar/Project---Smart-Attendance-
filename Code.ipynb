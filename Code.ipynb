{
 "cells": [
  {
   "cell_type": "code",
   "execution_count": null,
   "id": "c817ec5d-1ddb-408f-b4b6-31ea8680212f",
   "metadata": {},
   "outputs": [],
   "source": [
    "import cv2\n",
    "import numpy as np\n",
    "import face_recognition\n",
    "import os\n",
    "from datetime import datetime"
   ]
  },
  {
   "cell_type": "code",
   "execution_count": null,
   "id": "8147a0a6-605a-4da6-af3f-a579c5b9f3d7",
   "metadata": {},
   "outputs": [],
   "source": [
    "path = 'photos'\n",
    "images = []\n",
    "personName = []\n",
    "myList = os.listdir(path)\n",
    "print(myList)\n",
    "for cu_img in myList:\n",
    " current_Img = cv2.imread(f\"{path}/{cu_img}\")\n",
    " images.append(current_Img)\n",
    " personName.append(os.path.splitext(cu_img)[0])\n",
    "print(personName)"
   ]
  },
  {
   "cell_type": "code",
   "execution_count": null,
   "id": "1d4fdc1a-b9f4-461b-b892-acb6451a3e27",
   "metadata": {},
   "outputs": [],
   "source": [
    "def faceEncodings(images):\n",
    " encodeList = []\n",
    " for img in images:\n",
    " img = cv2.cvtColor(img, cv2.COLOR_BGR2RGB)\n",
    " encode = face_recognition.face_encodings(img)[0]\n",
    " encodeList.append(encode)\n",
    " return encodeList\n",
    "encodeListKnown = faceEncodings(images)\n",
    "print(\"All Encodings Complete!!!\")\n"
   ]
  },
  {
   "cell_type": "code",
   "execution_count": null,
   "id": "7448e6a9-f1c1-4b5d-92a4-6f5d9b7e1cb0",
   "metadata": {},
   "outputs": [],
   "source": [
    "def attendance(name):\n",
    " with open('Attendance.csv', 'r+') as f:\n",
    " myDataList = f.readlines()\n",
    " nameList = []\n",
    " for line in myDataList:\n",
    " entry = line.split(',')\n",
    " nameList.append(entry[0])\n",
    "16\n",
    " \n",
    " if name not in nameList:\n",
    " time_now = datetime.now()\n",
    " tStr = time_now.strftime('%H:%M:%S')\n",
    " dStr = time_now.strftime('%d/%m/%Y''\\n')\n",
    " f.writelines(f'{name},{tStr},{dStr}')"
   ]
  },
  {
   "cell_type": "code",
   "execution_count": null,
   "id": "e7b045e7-d867-4510-b73a-e8b085d8cb3a",
   "metadata": {},
   "outputs": [],
   "source": [
    "cap = cv2.VideoCapture(0)\n",
    "while True:\n",
    " ret, frame = cap.read()\n",
    " faces = cv2.resize(frame, (0,0), None, 0.25, 0.25)\n",
    " faces = cv2.cvtColor(faces, cv2.COLOR_BGR2RGB)\n",
    " \n",
    " facesCurrentFrame = face_recognition.face_locations(faces)\n",
    " encodesCurrentFrame = face_recognition.face_encodings(faces, facesCurrentFrame)\n",
    " \n",
    " for encodeFace, faceLoc in zip(encodesCurrentFrame, facesCurrentFrame):\n",
    " matches = face_recognition.compare_faces(encodeListKnown, encodeFace)\n",
    " faceDis = face_recognition.face_distance(encodeListKnown, encodeFace)\n",
    " \n",
    " matchIndex = np.argmin(faceDis)\n",
    " \n",
    " if matches[matchIndex]:\n",
    " name = personName[matchIndex].upper()\n",
    " #print(name)\n",
    " \n",
    " y1, x2, y2, x1 = faceLoc\n",
    " y1, x2, y2, x1 = y1*4, x2*4, y2*4, x1*4\n",
    " cv2.rectangle(frame, (x1,y1), (x2,y2), (0,255,0),2)\n",
    " cv2.rectangle(frame, (x1, y2-35),(x2,y2),(0,255,0), cv2.FILLED)\n",
    " cv2.putText(frame, name, (x1 + 6, y2 - 6), cv2.FONT_HERSHEY_COMPLEX, \n",
    " 1,(0,0,255),2)\n",
    " attendance(name)\n",
    " \n",
    " cv2.imshow(\"Camera\", frame)\n",
    " if cv2.waitKey(10) == 13:\n",
    " break\n",
    " \n",
    "cap.release()\n",
    "cv2.destroyAllWindows()"
   ]
  },
  {
   "cell_type": "code",
   "execution_count": null,
   "id": "578d0356-057e-4a9d-a91f-6fbc1a8726bd",
   "metadata": {},
   "outputs": [],
   "source": []
  },
  {
   "cell_type": "code",
   "execution_count": null,
   "id": "36392c32-962c-461d-8ccd-41869aa1bd96",
   "metadata": {},
   "outputs": [],
   "source": []
  },
  {
   "cell_type": "code",
   "execution_count": null,
   "id": "88604011-e7e6-4fa7-8f98-f39fe34bfe00",
   "metadata": {},
   "outputs": [],
   "source": []
  },
  {
   "cell_type": "code",
   "execution_count": null,
   "id": "128e5f64-83f9-45c7-98fc-f74a0072451b",
   "metadata": {},
   "outputs": [],
   "source": []
  },
  {
   "cell_type": "code",
   "execution_count": null,
   "id": "500e90d4-b134-4d0a-8547-afa94e8526ab",
   "metadata": {},
   "outputs": [],
   "source": []
  }
 ],
 "metadata": {
  "kernelspec": {
   "display_name": "Python 3 (ipykernel)",
   "language": "python",
   "name": "python3"
  },
  "language_info": {
   "codemirror_mode": {
    "name": "ipython",
    "version": 3
   },
   "file_extension": ".py",
   "mimetype": "text/x-python",
   "name": "python",
   "nbconvert_exporter": "python",
   "pygments_lexer": "ipython3",
   "version": "3.9.6"
  }
 },
 "nbformat": 4,
 "nbformat_minor": 5
}
